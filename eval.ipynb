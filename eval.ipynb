{
 "cells": [
  {
   "cell_type": "markdown",
   "metadata": {},
   "source": [
    "# Necessary imports and setup"
   ]
  },
  {
   "cell_type": "code",
   "execution_count": null,
   "metadata": {},
   "outputs": [],
   "source": [
    "!git clone https://github.com/saeedzou/MetaOffload &> /dev/null\n",
    "%cd /content/MetaOffload\n",
    "!pip install -q gym==0.14.0 &> /dev/null\n",
    "!pip install wandb -qU &> /dev/null\n",
    "!pip install -q pydotplus &> dev\\null\n",
    "!mkdir ./models\n",
    "!mkdir ./logs"
   ]
  },
  {
   "cell_type": "code",
   "execution_count": 1,
   "metadata": {},
   "outputs": [],
   "source": [
    "import os\n",
    "import json\n",
    "import math\n",
    "import logging\n",
    "\n",
    "import numpy as np\n",
    "import torch\n",
    "import torch.nn as nn\n",
    "import torch.nn.functional as F\n",
    "\n",
    "from torch.distributions import Categorical\n",
    "from copy import deepcopy\n",
    "from tqdm import tqdm\n",
    "from env.mec_offloaing_envs.offloading_env import Resources\n",
    "from env.mec_offloaing_envs.offloading_env import OffloadingEnvironment\n",
    "from models import GraphSeq2Seq, BaselineSeq2Seq\n",
    "from buffer import SingleRolloutBufferPPO\n",
    "from train import inner_loop\n",
    "from utils import log_metrics, Config"
   ]
  },
  {
   "cell_type": "markdown",
   "metadata": {},
   "source": [
    "# Loading config file and logging"
   ]
  },
  {
   "cell_type": "code",
   "execution_count": 2,
   "metadata": {},
   "outputs": [],
   "source": [
    "with open('configs/my_config_val.json') as f:\n",
    "    args = json.load(f)\n",
    "\n",
    "c = Config(args)\n",
    "device = c.device\n",
    "np.random.seed(c.seed)\n",
    "torch.manual_seed(c.seed)"
   ]
  },
  {
   "cell_type": "code",
   "execution_count": 3,
   "metadata": {},
   "outputs": [],
   "source": [
    "log_path = (f\"Eval_\"\n",
    "            f\"{c.graph_file_paths[0].split('/')[-2]}\"\n",
    "            f\"obs_{c.obs_dim}_\"\n",
    "            f\"h_{c.encoder_units}_\"\n",
    "            f\"nhl_{c.num_layers}_\"\n",
    "            f\"mbs_{c.meta_batch_size}_\"\n",
    "            f\"as_{c.adaptation_steps}_\"\n",
    "            f\"g_{c.is_graph}_\"\n",
    "            f\"gt_{c.graph_type}_\"\n",
    "            f\"n_{c.num_iterations}_\"\n",
    "            f\"ibs_{c.inner_batch_size}_\"\n",
    "            f\"mgn_{c.max_grad_norm}_\"\n",
    "            f\"vf_{c.vf_coef}_\"\n",
    "            f\"vfclip_{c.vf_is_clipped}_\"\n",
    "            f\"epis_{c.num_task_episodes}\"\n",
    "            f\"att_{c.is_attention}_\"\n",
    "            f\"seed_{c.seed}_\"\n",
    "            f\"olr_{c.outer_lr}_\"\n",
    "            f\"ilr_{c.inner_lr}_\"\n",
    "            f\"mec_{c.mec_process_capable}_\"\n",
    "            f\"mob_{c.mobile_process_capable}_\"\n",
    "            f\"ul_{c.bandwidth_up}_\"\n",
    "            f\"dl_{c.bandwidth_down}_\")\n",
    "logger_path = \"./logs/\"+log_path+'.log'\n",
    "logger = logging.getLogger(__name__)\n",
    "logging.basicConfig(filename=logger_path,\n",
    "                    filemode='w',\n",
    "                    format='%(message)s',\n",
    "                    level=logging.DEBUG,\n",
    "                    force=True)\n",
    "if c.wandb:\n",
    "    import wandb\n",
    "    wandb.login(key=c.wandb_key)\n",
    "    wandb.init(project=c.wandb_project,\n",
    "               name=log_path,\n",
    "               config=c)\n",
    "else:\n",
    "    wandb = None\n",
    "\n",
    "if c.save:\n",
    "    if not os.path.exists(os.path.join(c.save_path, log_path)):\n",
    "        os.makedirs(os.path.join(c.save_path, log_path))"
   ]
  },
  {
   "cell_type": "markdown",
   "metadata": {},
   "source": [
    "# Loading environment"
   ]
  },
  {
   "cell_type": "code",
   "execution_count": 4,
   "metadata": {},
   "outputs": [],
   "source": [
    "resources = Resources(mec_process_capable=c.mec_process_capable*1024*1024,\n",
    "                      mobile_process_capable=c.mobile_process_capable*1024*1024,\n",
    "                      bandwidth_up=c.bandwidth_up,\n",
    "                      bandwidth_dl=c.bandwidth_down)\n",
    "\n",
    "env = OffloadingEnvironment(resource_cluster=resources,\n",
    "                            batch_size=c.graph_number,\n",
    "                            graph_number=c.graph_number,\n",
    "                            graph_file_paths=c.graph_file_paths,\n",
    "                            time_major=False,\n",
    "                            encoding=c.encoding)\n",
    "\n",
    "print(f'Average greedy latency: {np.mean(env.greedy_solution(heft=False)[1]):.4f}')\n",
    "print(f'Average HEFT latency: {np.mean(env.greedy_solution(heft=True)[1]):.4f}')\n",
    "print(f'Average all local latency: {np.mean(env.get_all_locally_execute_time()):.4f}')\n",
    "print(f'Average all mec latency: {np.mean(env.get_all_mec_execute_time()):.4f}')"
   ]
  },
  {
   "cell_type": "markdown",
   "metadata": {},
   "source": [
    "# Loading model and initializing buffer and optimizer"
   ]
  },
  {
   "cell_type": "code",
   "execution_count": 5,
   "metadata": {},
   "outputs": [],
   "source": [
    "if c.is_graph:\n",
    "    policy = GraphSeq2Seq(hidden_dim=c.encoder_units,\n",
    "                          output_dim=c.action_dim,\n",
    "                          num_layers=c.num_layers,\n",
    "                          device=device,\n",
    "                          is_attention=c.is_attention,\n",
    "                          graph=c.graph_type).to(device)\n",
    "else:\n",
    "    policy = BaselineSeq2Seq(input_dim=c.obs_dim,\n",
    "                             hidden_dim=c.encoder_units,\n",
    "                             output_dim=c.action_dim,\n",
    "                             num_layers=c.num_layers,\n",
    "                             device=device,\n",
    "                             is_attention=c.is_attention).to(device)\n",
    "\n",
    "if args[\"load\"]:\n",
    "    policy.load_state_dict(torch.load(args[\"load_path\"], map_location=device))\n",
    "\n",
    "buffer = SingleRolloutBufferPPO(buffer_size=c.graph_number*c.num_task_episodes,\n",
    "                                discount=c.gamma, \n",
    "                                gae_lambda=c.tau, \n",
    "                                device=device)\n",
    "optimizer = torch.optim.Adam(policy.parameters(), lr=c.inner_lr)"
   ]
  },
  {
   "cell_type": "markdown",
   "metadata": {},
   "source": [
    "# Train Loop"
   ]
  },
  {
   "cell_type": "code",
   "execution_count": null,
   "metadata": {},
   "outputs": [],
   "source": [
    "for iteration in tqdm(range(c.start_iter, c.num_iterations), leave=False, disable=True):\n",
    "    task_policies = []\n",
    "    fts_before, fts_after = [], []\n",
    "    vf_losses, pg_losses = [], []\n",
    "    all_rewards, all_returns = [], []\n",
    "    \n",
    "    ### Sample trajectories ###\n",
    "    buffer.reset()\n",
    "    buffer.collect_episodes(env=env,\n",
    "                            policy=policy,\n",
    "                            device=device,\n",
    "                            task_id=0,\n",
    "                            is_graph=c.is_graph)\n",
    "    buffer.process_task()\n",
    "    \n",
    "    \n",
    "    vf_loss, pg_loss, fts, policy = \\\n",
    "        inner_loop(policy=policy, \n",
    "                    optimizer=optimizer, \n",
    "                    buffer=buffer, \n",
    "                    hparams=c)\n",
    "    vf_losses.append(vf_loss)\n",
    "    pg_losses.append(pg_loss)\n",
    "    fts_before.append(fts)\n",
    "    task_policies.append(policy)\n",
    "\n",
    "    ### Log metrics ###\n",
    "    avg_vf_losses = np.mean(vf_losses)\n",
    "    avg_pg_losses = np.mean(pg_losses)\n",
    "    avg_rewards = np.mean(buffer.rewards.sum(-1))\n",
    "    avg_returns = buffer.returns[:, 0].mean().item()\n",
    "    avg_fts_before = np.mean(np.concatenate(fts_before))\n",
    "    avg_fts_after = np.mean(np.concatenate(fts_before))\n",
    "    \n",
    "    log_metrics(logger=logger,\n",
    "                iteration=iteration,\n",
    "                vf_losses=avg_vf_losses,\n",
    "                pg_losses=avg_pg_losses,\n",
    "                rewards=avg_rewards,\n",
    "                returns=avg_returns,\n",
    "                finish_times_old=avg_fts_before,\n",
    "                finish_times_new=avg_fts_after,\n",
    "                wandb=wandb)"
   ]
  },
  {
   "cell_type": "code",
   "execution_count": null,
   "metadata": {},
   "outputs": [],
   "source": []
  }
 ],
 "metadata": {
  "kernelspec": {
   "display_name": "tez",
   "language": "python",
   "name": "python3"
  },
  "language_info": {
   "codemirror_mode": {
    "name": "ipython",
    "version": 3
   },
   "file_extension": ".py",
   "mimetype": "text/x-python",
   "name": "python",
   "nbconvert_exporter": "python",
   "pygments_lexer": "ipython3",
   "version": "3.10.13"
  }
 },
 "nbformat": 4,
 "nbformat_minor": 2
}
