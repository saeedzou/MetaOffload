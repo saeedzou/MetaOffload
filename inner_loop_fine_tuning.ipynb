{
 "cells": [
  {
   "cell_type": "code",
   "execution_count": null,
   "metadata": {},
   "outputs": [],
   "source": [
    "!git clone https://github.com/saeedzou/MetaOffload &> /dev/null\n",
    "%cd /content/MetaOffload\n",
    "!pip install -q gym==0.14.0 &> /dev/null\n",
    "!pip install wandb -qU &> /dev/null\n",
    "!pip install -q pydotplus &> dev\\null\n",
    "!mkdir ./models\n",
    "!mkdir ./logs"
   ]
  },
  {
   "cell_type": "code",
   "execution_count": null,
   "metadata": {},
   "outputs": [],
   "source": [
    "import json\n",
    "# 1. load config file\n",
    "# 2. create an object containing different values for each hyperparameter\n",
    "# 3. iterate over the combinations and create a new config file for each hyperparameter combination\n",
    "# 4. run inner_loop_fine_tuning.py -c config_file_name.json\n",
    "with open('configs/my_config_val.json') as f:\n",
    "    data = json.load(f)\n",
    "\n",
    "data['num_iterations'] = 100\n",
    "data['encoder_units'] = 128\n",
    "data['num_layers'] = 1\n",
    "\n",
    "inner_lrs = [1e-3, 5e-4, 1e-4]\n",
    "adaptation_steps = [1, 3, 5]\n",
    "graph_types = ['gat', 'gatv2', 'custom']\n",
    "inner_batch_sizes = [125, 250, 500, 1000]\n",
    "\n",
    "for lr in inner_lrs:\n",
    "    for adaptation_step in adaptation_steps:\n",
    "        for graph_type in graph_types:\n",
    "            for inner_batch_size in inner_batch_sizes:\n",
    "                data['inner_lr'] = lr\n",
    "                data['adaptation_steps'] = adaptation_step\n",
    "                data['graph_type'] = graph_type\n",
    "                data['inner_batch_size'] = inner_batch_size\n",
    "                with open('output.json', 'w') as f:\n",
    "                    json.dump(data, f, indent=4)\n",
    "                !python inner_loop_fine_tuning.py -c output.json"
   ]
  },
  {
   "cell_type": "code",
   "execution_count": null,
   "metadata": {},
   "outputs": [],
   "source": [
    "import shutil\n",
    "shutil.make_archive('logs', 'zip', 'logs')"
   ]
  }
 ],
 "metadata": {
  "language_info": {
   "name": "python"
  }
 },
 "nbformat": 4,
 "nbformat_minor": 2
}
